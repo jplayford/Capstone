{
 "cells": [
  {
   "cell_type": "code",
   "execution_count": 1,
   "metadata": {},
   "outputs": [
    {
     "name": "stdout",
     "output_type": "stream",
     "text": [
      "Populating the interactive namespace from numpy and matplotlib\n"
     ]
    }
   ],
   "source": [
    "import pandas as pd\n",
    "import matplotlib.pyplot as plt\n",
    "%pylab inline"
   ]
  },
  {
   "cell_type": "code",
   "execution_count": 11,
   "metadata": {},
   "outputs": [
    {
     "data": {
      "text/html": [
       "<div>\n",
       "<style scoped>\n",
       "    .dataframe tbody tr th:only-of-type {\n",
       "        vertical-align: middle;\n",
       "    }\n",
       "\n",
       "    .dataframe tbody tr th {\n",
       "        vertical-align: top;\n",
       "    }\n",
       "\n",
       "    .dataframe thead th {\n",
       "        text-align: right;\n",
       "    }\n",
       "</style>\n",
       "<table border=\"1\" class=\"dataframe\">\n",
       "  <thead>\n",
       "    <tr style=\"text-align: right;\">\n",
       "      <th></th>\n",
       "      <th>X1960</th>\n",
       "      <th>X1961</th>\n",
       "      <th>X1962</th>\n",
       "      <th>X1963</th>\n",
       "      <th>X1964</th>\n",
       "      <th>X1965</th>\n",
       "      <th>X1966</th>\n",
       "      <th>X1967</th>\n",
       "      <th>X1968</th>\n",
       "      <th>X1969</th>\n",
       "      <th>...</th>\n",
       "      <th>X2002</th>\n",
       "      <th>X2003</th>\n",
       "      <th>X2004</th>\n",
       "      <th>X2005</th>\n",
       "      <th>X2006</th>\n",
       "      <th>X2007</th>\n",
       "      <th>X2008</th>\n",
       "      <th>X2009</th>\n",
       "      <th>X2010</th>\n",
       "      <th>X2011</th>\n",
       "    </tr>\n",
       "    <tr>\n",
       "      <th>Income.per.person..fixed.2000.US..</th>\n",
       "      <th></th>\n",
       "      <th></th>\n",
       "      <th></th>\n",
       "      <th></th>\n",
       "      <th></th>\n",
       "      <th></th>\n",
       "      <th></th>\n",
       "      <th></th>\n",
       "      <th></th>\n",
       "      <th></th>\n",
       "      <th></th>\n",
       "      <th></th>\n",
       "      <th></th>\n",
       "      <th></th>\n",
       "      <th></th>\n",
       "      <th></th>\n",
       "      <th></th>\n",
       "      <th></th>\n",
       "      <th></th>\n",
       "      <th></th>\n",
       "      <th></th>\n",
       "    </tr>\n",
       "  </thead>\n",
       "  <tbody>\n",
       "    <tr>\n",
       "      <th>Algeria</th>\n",
       "      <td>1280.384828</td>\n",
       "      <td>1085.414612</td>\n",
       "      <td>855.947986</td>\n",
       "      <td>1128.415780</td>\n",
       "      <td>1170.323896</td>\n",
       "      <td>1215.015783</td>\n",
       "      <td>1127.614288</td>\n",
       "      <td>1200.558225</td>\n",
       "      <td>1291.863983</td>\n",
       "      <td>1359.491003</td>\n",
       "      <td>...</td>\n",
       "      <td>1871.921986</td>\n",
       "      <td>1971.512803</td>\n",
       "      <td>2043.135713</td>\n",
       "      <td>2115.186028</td>\n",
       "      <td>2124.957754</td>\n",
       "      <td>2155.485231</td>\n",
       "      <td>2173.787903</td>\n",
       "      <td>2192.703976</td>\n",
       "      <td>2231.980246</td>\n",
       "      <td>2255.225482</td>\n",
       "    </tr>\n",
       "    <tr>\n",
       "      <th>Argentina</th>\n",
       "      <td>5251.876754</td>\n",
       "      <td>5448.303627</td>\n",
       "      <td>5316.578969</td>\n",
       "      <td>4956.216522</td>\n",
       "      <td>5375.463707</td>\n",
       "      <td>5855.611563</td>\n",
       "      <td>5733.311946</td>\n",
       "      <td>5833.052305</td>\n",
       "      <td>6028.124335</td>\n",
       "      <td>6515.364261</td>\n",
       "      <td>...</td>\n",
       "      <td>6428.393836</td>\n",
       "      <td>6933.155594</td>\n",
       "      <td>7492.249508</td>\n",
       "      <td>8107.975365</td>\n",
       "      <td>8717.176296</td>\n",
       "      <td>9388.688523</td>\n",
       "      <td>9935.834246</td>\n",
       "      <td>9933.229024</td>\n",
       "      <td>10749.319224</td>\n",
       "      <td>11601.630223</td>\n",
       "    </tr>\n",
       "    <tr>\n",
       "      <th>Australia</th>\n",
       "      <td>9407.685082</td>\n",
       "      <td>9451.546304</td>\n",
       "      <td>9351.023272</td>\n",
       "      <td>9749.128563</td>\n",
       "      <td>10231.144465</td>\n",
       "      <td>10633.094400</td>\n",
       "      <td>10635.677912</td>\n",
       "      <td>11165.706459</td>\n",
       "      <td>11533.028316</td>\n",
       "      <td>12091.755332</td>\n",
       "      <td>...</td>\n",
       "      <td>22402.991019</td>\n",
       "      <td>22825.571022</td>\n",
       "      <td>23498.261991</td>\n",
       "      <td>23929.164397</td>\n",
       "      <td>24295.081380</td>\n",
       "      <td>24765.548902</td>\n",
       "      <td>25190.720626</td>\n",
       "      <td>25007.697756</td>\n",
       "      <td>25190.839860</td>\n",
       "      <td>25306.824938</td>\n",
       "    </tr>\n",
       "    <tr>\n",
       "      <th>Austria</th>\n",
       "      <td>7434.183717</td>\n",
       "      <td>7802.972546</td>\n",
       "      <td>7960.707270</td>\n",
       "      <td>8237.060529</td>\n",
       "      <td>8683.454516</td>\n",
       "      <td>8927.460698</td>\n",
       "      <td>9365.306134</td>\n",
       "      <td>9575.183558</td>\n",
       "      <td>9951.607180</td>\n",
       "      <td>10539.697000</td>\n",
       "      <td>...</td>\n",
       "      <td>24375.113835</td>\n",
       "      <td>24466.706298</td>\n",
       "      <td>24945.047766</td>\n",
       "      <td>25370.465866</td>\n",
       "      <td>26171.690912</td>\n",
       "      <td>27036.487332</td>\n",
       "      <td>27305.923295</td>\n",
       "      <td>26183.997598</td>\n",
       "      <td>26642.993858</td>\n",
       "      <td>27266.403350</td>\n",
       "    </tr>\n",
       "    <tr>\n",
       "      <th>Bahamas</th>\n",
       "      <td>11926.460965</td>\n",
       "      <td>12558.295808</td>\n",
       "      <td>13186.104057</td>\n",
       "      <td>13858.516886</td>\n",
       "      <td>14584.427751</td>\n",
       "      <td>15374.335827</td>\n",
       "      <td>16045.527598</td>\n",
       "      <td>16866.146998</td>\n",
       "      <td>17592.545598</td>\n",
       "      <td>18516.803145</td>\n",
       "      <td>...</td>\n",
       "      <td>21809.347175</td>\n",
       "      <td>21228.075689</td>\n",
       "      <td>21106.720080</td>\n",
       "      <td>21507.715258</td>\n",
       "      <td>21728.708882</td>\n",
       "      <td>21721.618410</td>\n",
       "      <td>20911.599431</td>\n",
       "      <td>19619.121361</td>\n",
       "      <td>19395.152312</td>\n",
       "      <td>19466.990524</td>\n",
       "    </tr>\n",
       "    <tr>\n",
       "      <th>...</th>\n",
       "      <td>...</td>\n",
       "      <td>...</td>\n",
       "      <td>...</td>\n",
       "      <td>...</td>\n",
       "      <td>...</td>\n",
       "      <td>...</td>\n",
       "      <td>...</td>\n",
       "      <td>...</td>\n",
       "      <td>...</td>\n",
       "      <td>...</td>\n",
       "      <td>...</td>\n",
       "      <td>...</td>\n",
       "      <td>...</td>\n",
       "      <td>...</td>\n",
       "      <td>...</td>\n",
       "      <td>...</td>\n",
       "      <td>...</td>\n",
       "      <td>...</td>\n",
       "      <td>...</td>\n",
       "      <td>...</td>\n",
       "      <td>...</td>\n",
       "    </tr>\n",
       "    <tr>\n",
       "      <th>United States</th>\n",
       "      <td>13723.237781</td>\n",
       "      <td>13808.064022</td>\n",
       "      <td>14426.757715</td>\n",
       "      <td>14846.327063</td>\n",
       "      <td>15490.739158</td>\n",
       "      <td>16277.374013</td>\n",
       "      <td>17136.349573</td>\n",
       "      <td>17374.536484</td>\n",
       "      <td>18027.613926</td>\n",
       "      <td>18405.719640</td>\n",
       "      <td>...</td>\n",
       "      <td>35427.909964</td>\n",
       "      <td>36021.314082</td>\n",
       "      <td>36931.393825</td>\n",
       "      <td>37718.005367</td>\n",
       "      <td>38349.398789</td>\n",
       "      <td>38710.885442</td>\n",
       "      <td>38208.761183</td>\n",
       "      <td>36539.228232</td>\n",
       "      <td>37329.615914</td>\n",
       "      <td>37691.027331</td>\n",
       "    </tr>\n",
       "    <tr>\n",
       "      <th>Uruguay</th>\n",
       "      <td>4182.118439</td>\n",
       "      <td>4231.300372</td>\n",
       "      <td>4113.191476</td>\n",
       "      <td>4071.375675</td>\n",
       "      <td>4123.413392</td>\n",
       "      <td>4121.472526</td>\n",
       "      <td>4203.508063</td>\n",
       "      <td>4009.715215</td>\n",
       "      <td>4049.126411</td>\n",
       "      <td>4255.510464</td>\n",
       "      <td>...</td>\n",
       "      <td>6120.259436</td>\n",
       "      <td>6178.858603</td>\n",
       "      <td>6491.610552</td>\n",
       "      <td>6967.471275</td>\n",
       "      <td>7233.906191</td>\n",
       "      <td>7685.224500</td>\n",
       "      <td>8211.661782</td>\n",
       "      <td>8382.829016</td>\n",
       "      <td>9096.794459</td>\n",
       "      <td>9581.056590</td>\n",
       "    </tr>\n",
       "    <tr>\n",
       "      <th>Venezuela</th>\n",
       "      <td>5437.469231</td>\n",
       "      <td>5403.435893</td>\n",
       "      <td>5650.188735</td>\n",
       "      <td>5660.020136</td>\n",
       "      <td>6070.145076</td>\n",
       "      <td>6108.348430</td>\n",
       "      <td>5996.796963</td>\n",
       "      <td>5969.103021</td>\n",
       "      <td>6203.924656</td>\n",
       "      <td>6048.183076</td>\n",
       "      <td>...</td>\n",
       "      <td>4377.382134</td>\n",
       "      <td>3966.499729</td>\n",
       "      <td>4610.489039</td>\n",
       "      <td>5000.076202</td>\n",
       "      <td>5401.421719</td>\n",
       "      <td>5777.628568</td>\n",
       "      <td>5984.144953</td>\n",
       "      <td>5700.884058</td>\n",
       "      <td>5528.363114</td>\n",
       "      <td>5671.912202</td>\n",
       "    </tr>\n",
       "    <tr>\n",
       "      <th>Zambia</th>\n",
       "      <td>547.442880</td>\n",
       "      <td>538.947443</td>\n",
       "      <td>510.145045</td>\n",
       "      <td>511.209208</td>\n",
       "      <td>556.478953</td>\n",
       "      <td>629.571572</td>\n",
       "      <td>576.540133</td>\n",
       "      <td>603.305134</td>\n",
       "      <td>592.073792</td>\n",
       "      <td>571.031930</td>\n",
       "      <td>...</td>\n",
       "      <td>329.735175</td>\n",
       "      <td>338.884761</td>\n",
       "      <td>349.085472</td>\n",
       "      <td>359.071237</td>\n",
       "      <td>372.083675</td>\n",
       "      <td>385.122823</td>\n",
       "      <td>396.344384</td>\n",
       "      <td>410.316267</td>\n",
       "      <td>434.659804</td>\n",
       "      <td>443.920631</td>\n",
       "    </tr>\n",
       "    <tr>\n",
       "      <th>Zimbabwe</th>\n",
       "      <td>389.015773</td>\n",
       "      <td>400.331449</td>\n",
       "      <td>392.935734</td>\n",
       "      <td>403.907996</td>\n",
       "      <td>386.489407</td>\n",
       "      <td>392.396417</td>\n",
       "      <td>385.625662</td>\n",
       "      <td>404.581331</td>\n",
       "      <td>399.390778</td>\n",
       "      <td>434.566280</td>\n",
       "      <td>...</td>\n",
       "      <td>490.386861</td>\n",
       "      <td>406.878562</td>\n",
       "      <td>383.707665</td>\n",
       "      <td>362.576377</td>\n",
       "      <td>351.172047</td>\n",
       "      <td>339.654883</td>\n",
       "      <td>280.308503</td>\n",
       "      <td>296.548610</td>\n",
       "      <td>322.556928</td>\n",
       "      <td>347.745661</td>\n",
       "    </tr>\n",
       "  </tbody>\n",
       "</table>\n",
       "<p>91 rows × 52 columns</p>\n",
       "</div>"
      ],
      "text/plain": [
       "                                           X1960         X1961         X1962  \\\n",
       "Income.per.person..fixed.2000.US..                                             \n",
       "Algeria                              1280.384828   1085.414612    855.947986   \n",
       "Argentina                            5251.876754   5448.303627   5316.578969   \n",
       "Australia                            9407.685082   9451.546304   9351.023272   \n",
       "Austria                              7434.183717   7802.972546   7960.707270   \n",
       "Bahamas                             11926.460965  12558.295808  13186.104057   \n",
       "...                                          ...           ...           ...   \n",
       "United States                       13723.237781  13808.064022  14426.757715   \n",
       "Uruguay                              4182.118439   4231.300372   4113.191476   \n",
       "Venezuela                            5437.469231   5403.435893   5650.188735   \n",
       "Zambia                                547.442880    538.947443    510.145045   \n",
       "Zimbabwe                              389.015773    400.331449    392.935734   \n",
       "\n",
       "                                           X1963         X1964         X1965  \\\n",
       "Income.per.person..fixed.2000.US..                                             \n",
       "Algeria                              1128.415780   1170.323896   1215.015783   \n",
       "Argentina                            4956.216522   5375.463707   5855.611563   \n",
       "Australia                            9749.128563  10231.144465  10633.094400   \n",
       "Austria                              8237.060529   8683.454516   8927.460698   \n",
       "Bahamas                             13858.516886  14584.427751  15374.335827   \n",
       "...                                          ...           ...           ...   \n",
       "United States                       14846.327063  15490.739158  16277.374013   \n",
       "Uruguay                              4071.375675   4123.413392   4121.472526   \n",
       "Venezuela                            5660.020136   6070.145076   6108.348430   \n",
       "Zambia                                511.209208    556.478953    629.571572   \n",
       "Zimbabwe                              403.907996    386.489407    392.396417   \n",
       "\n",
       "                                           X1966         X1967         X1968  \\\n",
       "Income.per.person..fixed.2000.US..                                             \n",
       "Algeria                              1127.614288   1200.558225   1291.863983   \n",
       "Argentina                            5733.311946   5833.052305   6028.124335   \n",
       "Australia                           10635.677912  11165.706459  11533.028316   \n",
       "Austria                              9365.306134   9575.183558   9951.607180   \n",
       "Bahamas                             16045.527598  16866.146998  17592.545598   \n",
       "...                                          ...           ...           ...   \n",
       "United States                       17136.349573  17374.536484  18027.613926   \n",
       "Uruguay                              4203.508063   4009.715215   4049.126411   \n",
       "Venezuela                            5996.796963   5969.103021   6203.924656   \n",
       "Zambia                                576.540133    603.305134    592.073792   \n",
       "Zimbabwe                              385.625662    404.581331    399.390778   \n",
       "\n",
       "                                           X1969  ...         X2002  \\\n",
       "Income.per.person..fixed.2000.US..                ...                 \n",
       "Algeria                              1359.491003  ...   1871.921986   \n",
       "Argentina                            6515.364261  ...   6428.393836   \n",
       "Australia                           12091.755332  ...  22402.991019   \n",
       "Austria                             10539.697000  ...  24375.113835   \n",
       "Bahamas                             18516.803145  ...  21809.347175   \n",
       "...                                          ...  ...           ...   \n",
       "United States                       18405.719640  ...  35427.909964   \n",
       "Uruguay                              4255.510464  ...   6120.259436   \n",
       "Venezuela                            6048.183076  ...   4377.382134   \n",
       "Zambia                                571.031930  ...    329.735175   \n",
       "Zimbabwe                              434.566280  ...    490.386861   \n",
       "\n",
       "                                           X2003         X2004         X2005  \\\n",
       "Income.per.person..fixed.2000.US..                                             \n",
       "Algeria                              1971.512803   2043.135713   2115.186028   \n",
       "Argentina                            6933.155594   7492.249508   8107.975365   \n",
       "Australia                           22825.571022  23498.261991  23929.164397   \n",
       "Austria                             24466.706298  24945.047766  25370.465866   \n",
       "Bahamas                             21228.075689  21106.720080  21507.715258   \n",
       "...                                          ...           ...           ...   \n",
       "United States                       36021.314082  36931.393825  37718.005367   \n",
       "Uruguay                              6178.858603   6491.610552   6967.471275   \n",
       "Venezuela                            3966.499729   4610.489039   5000.076202   \n",
       "Zambia                                338.884761    349.085472    359.071237   \n",
       "Zimbabwe                              406.878562    383.707665    362.576377   \n",
       "\n",
       "                                           X2006         X2007         X2008  \\\n",
       "Income.per.person..fixed.2000.US..                                             \n",
       "Algeria                              2124.957754   2155.485231   2173.787903   \n",
       "Argentina                            8717.176296   9388.688523   9935.834246   \n",
       "Australia                           24295.081380  24765.548902  25190.720626   \n",
       "Austria                             26171.690912  27036.487332  27305.923295   \n",
       "Bahamas                             21728.708882  21721.618410  20911.599431   \n",
       "...                                          ...           ...           ...   \n",
       "United States                       38349.398789  38710.885442  38208.761183   \n",
       "Uruguay                              7233.906191   7685.224500   8211.661782   \n",
       "Venezuela                            5401.421719   5777.628568   5984.144953   \n",
       "Zambia                                372.083675    385.122823    396.344384   \n",
       "Zimbabwe                              351.172047    339.654883    280.308503   \n",
       "\n",
       "                                           X2009         X2010         X2011  \n",
       "Income.per.person..fixed.2000.US..                                            \n",
       "Algeria                              2192.703976   2231.980246   2255.225482  \n",
       "Argentina                            9933.229024  10749.319224  11601.630223  \n",
       "Australia                           25007.697756  25190.839860  25306.824938  \n",
       "Austria                             26183.997598  26642.993858  27266.403350  \n",
       "Bahamas                             19619.121361  19395.152312  19466.990524  \n",
       "...                                          ...           ...           ...  \n",
       "United States                       36539.228232  37329.615914  37691.027331  \n",
       "Uruguay                              8382.829016   9096.794459   9581.056590  \n",
       "Venezuela                            5700.884058   5528.363114   5671.912202  \n",
       "Zambia                                410.316267    434.659804    443.920631  \n",
       "Zimbabwe                              296.548610    322.556928    347.745661  \n",
       "\n",
       "[91 rows x 52 columns]"
      ]
     },
     "execution_count": 11,
     "metadata": {},
     "output_type": "execute_result"
    }
   ],
   "source": [
    "df = pd.read_csv(\"/Users/Joan/Desktop/Capstone/gdp.csv\", index_col='Income.per.person..fixed.2000.US..')\n",
    "df.dropna()"
   ]
  },
  {
   "cell_type": "code",
   "execution_count": 13,
   "metadata": {},
   "outputs": [
    {
     "data": {
      "text/plain": [
       "<matplotlib.axes._subplots.AxesSubplot at 0x7fca1d13dbd0>"
      ]
     },
     "execution_count": 13,
     "metadata": {},
     "output_type": "execute_result"
    },
    {
     "data": {
      "image/png": "[encoded data removed]",
      "text/plain": [
       "<Figure size 432x288 with 1 Axes>"
      ]
     },
     "metadata": {
      "needs_background": "light"
     },
     "output_type": "display_data"
    }
   ],
   "source": [
    "df['Algeria'].plot()"
   ]
  },
  {
   "cell_type": "code",
   "execution_count": 15,
   "metadata": {},
   "outputs": [
    {
     "data": {
      "text/plain": [
       "Income.per.person..fixed.2000.US..\n",
       "Algeria           1085.414612\n",
       "Argentina         5448.303627\n",
       "Australia         9451.546304\n",
       "Austria           7802.972546\n",
       "Bahamas          12558.295808\n",
       "                     ...     \n",
       "United States    13808.064022\n",
       "Uruguay           4231.300372\n",
       "Venezuela         5403.435893\n",
       "Zambia             538.947443\n",
       "Zimbabwe           400.331449\n",
       "Name: X1961, Length: 97, dtype: float64"
      ]
     },
     "execution_count": 15,
     "metadata": {},
     "output_type": "execute_result"
    }
   ],
   "source": [
    "gdp_1961 = data.groupby('Income.per.person..fixed.2000.US..').mean()['X1961'].dropna()\n",
    "gdp_1961"
   ]
  },
  {
   "cell_type": "code",
   "execution_count": 21,
   "metadata": {},
   "outputs": [
    {
     "data": {
      "text/plain": [
       "Income.per.person..fixed.2000.US..\n",
       "Bermuda           20009.625798\n",
       "Luxembourg        14098.631100\n",
       "United States     13808.064022\n",
       "Bahamas           12558.295808\n",
       "Denmark           12032.960402\n",
       "Sweden            11949.426910\n",
       "Norway            11276.388081\n",
       "United Kingdom    10205.454545\n",
       "Iceland            9906.407934\n",
       "Canada             9479.824032\n",
       "Name: X1961, dtype: float64"
      ]
     },
     "execution_count": 21,
     "metadata": {},
     "output_type": "execute_result"
    }
   ],
   "source": [
    "top_gdp_1961 = gdp_1961.sort_values(ascending=False).head(10)\n",
    "top_gdp_1961"
   ]
  },
  {
   "cell_type": "code",
   "execution_count": 29,
   "metadata": {},
   "outputs": [
    {
     "data": {
      "text/plain": [
       "Text(0, 0.5, 'Average Income per Person in USD')"
      ]
     },
     "execution_count": 29,
     "metadata": {},
     "output_type": "execute_result"
    },
    {
     "data": {
      "image/png": "[encoded data removed]",
      "text/plain": [
       "<Figure size 432x288 with 1 Axes>"
      ]
     },
     "metadata": {
      "needs_background": "light"
     },
     "output_type": "display_data"
    }
   ],
   "source": [
    "top_gdp_1961.plot.bar(color = 'navy')\n",
    "plt.title(\"Top 10 Countries With Highest Average Incomes - 1961 \")\n",
    "plt.ylabel(\"Average Income per Person in USD\")"
   ]
  },
  {
   "cell_type": "code",
   "execution_count": 30,
   "metadata": {},
   "outputs": [
    {
     "data": {
      "text/plain": [
       "Income.per.person..fixed.2000.US..\n",
       "Algeria           1235.663803\n",
       "Andorra          18142.985086\n",
       "Argentina         6872.758345\n",
       "Australia        12777.834069\n",
       "Austria          11600.222955\n",
       "                     ...     \n",
       "United States    18622.337419\n",
       "Uruguay           4308.067163\n",
       "Venezuela         6184.439768\n",
       "Zambia             559.828892\n",
       "Zimbabwe           542.529429\n",
       "Name: X1971, Length: 119, dtype: float64"
      ]
     },
     "execution_count": 30,
     "metadata": {},
     "output_type": "execute_result"
    }
   ],
   "source": [
    "gdp_1971 = data.groupby('Income.per.person..fixed.2000.US..').mean()['X1971'].dropna()\n",
    "gdp_1971"
   ]
  },
  {
   "cell_type": "code",
   "execution_count": 32,
   "metadata": {},
   "outputs": [
    {
     "data": {
      "text/plain": [
       "Income.per.person..fixed.2000.US..\n",
       "Monaco           52478.167209\n",
       "Liechtenstein    32495.677454\n",
       "Bermuda          30833.692121\n",
       "United States    18622.337419\n",
       "Andorra          18142.985086\n",
       "Luxembourg       17762.368854\n",
       "Japan            17210.266293\n",
       "Bahamas          16773.324308\n",
       "Denmark          16768.140701\n",
       "Sweden           16612.830448\n",
       "Name: X1971, dtype: float64"
      ]
     },
     "execution_count": 32,
     "metadata": {},
     "output_type": "execute_result"
    }
   ],
   "source": [
    "top_gdp_1971 = gdp_1971.sort_values(ascending=False).head(10)\n",
    "top_gdp_1971"
   ]
  },
  {
   "cell_type": "code",
   "execution_count": 33,
   "metadata": {},
   "outputs": [
    {
     "data": {
      "text/plain": [
       "Text(0, 0.5, 'Average Income per Person in USD')"
      ]
     },
     "execution_count": 33,
     "metadata": {},
     "output_type": "execute_result"
    },
    {
     "data": {
      "image/png": "[encoded data removed]",
      "text/plain": [
       "<Figure size 432x288 with 1 Axes>"
      ]
     },
     "metadata": {
      "needs_background": "light"
     },
     "output_type": "display_data"
    }
   ],
   "source": [
    "top_gdp_1971.plot.bar(color = 'pink')\n",
    "plt.title(\"Top 10 Countries With Highest Average Incomes - 1971 \")\n",
    "plt.ylabel(\"Average Income per Person in USD\")"
   ]
  },
  {
   "cell_type": "code",
   "execution_count": 34,
   "metadata": {},
   "outputs": [
    {
     "data": {
      "text/plain": [
       "Income.per.person..fixed.2000.US..\n",
       "Albania                 1281.842804\n",
       "Algeria                 1814.415130\n",
       "Andorra                19085.364060\n",
       "Angola                   297.901684\n",
       "Antigua and Barbuda     9639.577666\n",
       "                           ...     \n",
       "Vietnam                  423.828622\n",
       "West Bank and Gaza      1126.818761\n",
       "Yemen                    547.622371\n",
       "Zambia                   326.588793\n",
       "Zimbabwe                 539.662758\n",
       "Name: X2001, Length: 196, dtype: float64"
      ]
     },
     "execution_count": 34,
     "metadata": {},
     "output_type": "execute_result"
    }
   ],
   "source": [
    "gdp_2001 = data.groupby('Income.per.person..fixed.2000.US..').mean()['X2001'].dropna()\n",
    "gdp_2001"
   ]
  },
  {
   "cell_type": "code",
   "execution_count": 35,
   "metadata": {},
   "outputs": [
    {
     "data": {
      "text/plain": [
       "Income.per.person..fixed.2000.US..\n",
       "Monaco                  76677.974163\n",
       "Liechtenstein           74180.372422\n",
       "Bermuda                 59314.227780\n",
       "Luxembourg              47059.302976\n",
       "Channel Islands         43441.715240\n",
       "Norway                  38025.498997\n",
       "Japan                   37342.144732\n",
       "Switzerland             35854.932576\n",
       "United States           35116.215079\n",
       "United Arab Emirates    33592.366876\n",
       "Name: X2001, dtype: float64"
      ]
     },
     "execution_count": 35,
     "metadata": {},
     "output_type": "execute_result"
    }
   ],
   "source": [
    "top_gdp_2001 = gdp_2001.sort_values(ascending=False).head(10)\n",
    "top_gdp_2001"
   ]
  },
  {
   "cell_type": "code",
   "execution_count": 36,
   "metadata": {},
   "outputs": [
    {
     "data": {
      "text/plain": [
       "Text(0, 0.5, 'Average Income per Person in USD')"
      ]
     },
     "execution_count": 36,
     "metadata": {},
     "output_type": "execute_result"
    },
    {
     "data": {
      "image/png": "[encoded data removed]",
      "text/plain": [
       "<Figure size 432x288 with 1 Axes>"
      ]
     },
     "metadata": {
      "needs_background": "light"
     },
     "output_type": "display_data"
    }
   ],
   "source": [
    "top_gdp_2001.plot.bar(color = 'green')\n",
    "plt.title(\"Top 10 Countries With Highest Average Incomes - 2001 \")\n",
    "plt.ylabel(\"Average Income per Person in USD\")"
   ]
  },
  {
   "cell_type": "code",
   "execution_count": 37,
   "metadata": {},
   "outputs": [
    {
     "data": {
      "text/plain": [
       "<matplotlib.axes._subplots.AxesSubplot at 0x7fca1e695c10>"
      ]
     },
     "execution_count": 37,
     "metadata": {},
     "output_type": "execute_result"
    },
    {
     "data": {
      "image/png": "[encoded data removed]",
      "text/plain": [
       "<Figure size 432x288 with 1 Axes>"
      ]
     },
     "metadata": {
      "needs_background": "light"
     },
     "output_type": "display_data"
    }
   ],
   "source": [
    "df[\"Monaco\"].plot()"
   ]
  },
  {
   "cell_type": "code",
   "execution_count": 38,
   "metadata": {},
   "outputs": [
    {
     "data": {
      "text/plain": [
       "<matplotlib.axes._subplots.AxesSubplot at 0x7fca1e7b0690>"
      ]
     },
     "execution_count": 38,
     "metadata": {},
     "output_type": "execute_result"
    },
    {
     "data": {
      "image/png": "[encoded data removed]",
      "text/plain": [
       "<Figure size 432x288 with 1 Axes>"
      ]
     },
     "metadata": {
      "needs_background": "light"
     },
     "output_type": "display_data"
    }
   ],
   "source": [
    "df[\"United States\"].plot()"
   ]
  },
  {
   "cell_type": "code",
   "execution_count": 40,
   "metadata": {},
   "outputs": [
    {
     "data": {
      "text/plain": [
       "Text(0, 0.5, 'Average Income in USD')"
      ]
     },
     "execution_count": 40,
     "metadata": {},
     "output_type": "execute_result"
    },
    {
     "data": {
      "image/png": "[encoded data removed]",
      "text/plain": [
       "<Figure size 432x288 with 1 Axes>"
      ]
     },
     "metadata": {
      "needs_background": "light"
     },
     "output_type": "display_data"
    }
   ],
   "source": [
    "df[\"United States\"].plot()\n",
    "df[\"Monaco\"].plot()\n",
    "plt.title(\"United States and Monaco Average Income 1960-2010\")\n",
    "plt.ylabel(\"Average Income in USD\")I"
   ]
  },
  {
   "cell_type": "code",
   "execution_count": null,
   "metadata": {},
   "outputs": [],
   "source": []
  }
 ],
 "metadata": {
  "kernelspec": {
   "display_name": "Python 3",
   "language": "python",
   "name": "python3"
  },
  "language_info": {
   "codemirror_mode": {
    "name": "ipython",
    "version": 3
   },
   "file_extension": ".py",
   "mimetype": "text/x-python",
   "name": "python",
   "nbconvert_exporter": "python",
   "pygments_lexer": "ipython3",
   "version": "3.8.8"
  }
 },
 "nbformat": 4,
 "nbformat_minor": 4
}
